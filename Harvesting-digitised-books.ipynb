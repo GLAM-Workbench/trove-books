{
 "cells": [
  {
   "cell_type": "markdown",
   "metadata": {},
   "source": [
    "# Harvesting digitised books\n",
    "\n",
    "This notebook harvests metadata and OCRd text from digitised books in Trove. There's three main steps:\n",
    "\n",
    "* Harvest metadata of digitised books using the Trove API\n",
    "* Extract the number of pages for each book from the Trove web interface (the number of pages is necessary to download the OCRd text)\n",
    "* Download the OCRd text for each book\n",
    "\n",
    "It's not easy to identify all the digitised books in Trove. I'm starting with a [search in the book zone](https://trove.nla.gov.au/book/result?q=%22nla.obj%22&l-availability=y) for records that include the phrase `\"nla.obj\"` and are available online. This currently returns 21,699 results. However, this includes works from other zones, such as maps and music. It also includes books where access to the digital copy is 'restricted'. I think these are mostly recent books submitted in digital form under legal deposit. I've filtered the 21,699 results to remove records where the digital copy is not available, and where the primary format is not 'book'. This currently reduces the total to 7,719 results. It's possible that I might have filtered out too many titles.\n",
    "\n",
    "You can download a [CSV file with the harvested metadata](trove_digitised_books.csv) here.\n",
    "\n",
    "I've currently downloaded the OCRd text for about 2,000 books. You can view the files in the [text](text) directory of this repository."
   ]
  },
  {
   "cell_type": "markdown",
   "metadata": {},
   "source": [
    "## Setting things up"
   ]
  },
  {
   "cell_type": "code",
   "execution_count": 124,
   "metadata": {},
   "outputs": [],
   "source": [
    "import requests\n",
    "from requests.adapters import HTTPAdapter\n",
    "from requests.packages.urllib3.util.retry import Retry\n",
    "from tqdm import tqdm_notebook\n",
    "from IPython.display import display, FileLink\n",
    "import pandas as pd\n",
    "import json\n",
    "import re\n",
    "import time\n",
    "import os"
   ]
  },
  {
   "cell_type": "code",
   "execution_count": 85,
   "metadata": {},
   "outputs": [],
   "source": [
    "s = requests.Session()\n",
    "retries = Retry(total=5, backoff_factor=1, status_forcelist=[ 502, 503, 504 ])\n",
    "s.mount('https://', HTTPAdapter(max_retries=retries))\n",
    "s.mount('http://', HTTPAdapter(max_retries=retries))"
   ]
  },
  {
   "cell_type": "code",
   "execution_count": 25,
   "metadata": {},
   "outputs": [],
   "source": [
    "# Add your Trove API key below\n",
    "params = {\n",
    "    'key': '',\n",
    "    'zone': 'book',\n",
    "    'q': 'nla.obj',\n",
    "    'bulkHarvest': 'true',\n",
    "    'n': 100,\n",
    "    'encoding': 'json',\n",
    "    'l-availability': 'y'\n",
    "}"
   ]
  },
  {
   "cell_type": "markdown",
   "metadata": {},
   "source": [
    "## Harvest metadata using the API"
   ]
  },
  {
   "cell_type": "code",
   "execution_count": 76,
   "metadata": {
    "scrolled": false
   },
   "outputs": [],
   "source": [
    "def get_total_results():\n",
    "    '''\n",
    "    Get the total number of results for a search.\n",
    "    '''\n",
    "    these_params = params.copy()\n",
    "    these_params['n'] = 0\n",
    "    s.get('https://api.trove.nla.gov.au/v2/result', params=these_params)\n",
    "    data = response.json()\n",
    "    return int(data['response']['zone'][0]['records']['total'])\n",
    "\n",
    "\n",
    "def get_fulltext_url(links):\n",
    "    '''\n",
    "    Loop through the identifiers to find a link to the full text version of the book.\n",
    "    '''\n",
    "    url = None\n",
    "    for link in links:\n",
    "        if link['linktype'] == 'fulltext' and 'nla.obj' in link['value']:\n",
    "            url = link['value']\n",
    "            break\n",
    "    return url\n",
    "\n",
    "\n",
    "def harvest_books():\n",
    "    '''\n",
    "    Harvest metadata relating to digitised books.\n",
    "    '''\n",
    "    books = []\n",
    "    total = get_total_results()\n",
    "    start = '*'\n",
    "    these_params = params.copy()\n",
    "    with tqdm_notebook(total=total) as pbar:\n",
    "        while start:\n",
    "            these_params['s'] = start\n",
    "            response = s.get('https://api.trove.nla.gov.au/v2/result', params=these_params)\n",
    "            data = response.json()\n",
    "            # The nextStart parameter is used to get the next page of results.\n",
    "            # If there's no nextStart then it means we're on the last page of results.\n",
    "            try:\n",
    "                start = data['response']['zone'][0]['records']['nextStart']\n",
    "            except KeyError:\n",
    "                start = None\n",
    "            for record in data['response']['zone'][0]['records']['work']:\n",
    "                # See if there's a link to the full text version.\n",
    "                fulltext_url = get_fulltext_url(record['identifier'])\n",
    "                # I'm making the assumption that if this is a booky book (not a map or music etc),\n",
    "                # then 'Book' will appear first in the list of types.\n",
    "                # This might not be a valid assumption.\n",
    "                try:\n",
    "                    format_type = record.get('type')[0]\n",
    "                except (IndexError, TypeError):\n",
    "                    format_type = None\n",
    "                # Save the record if there's a full text link and it's a booky book.\n",
    "                if fulltext_url and format_type == 'Book':\n",
    "                    # The 'contributor' field may have a single value or an array.\n",
    "                    # If it's an array, join the values into a string.\n",
    "                    try:\n",
    "                        contributors = '|'.join(record.get('contributor'))\n",
    "                    except TypeError:\n",
    "                        contributors = record.get('contributor')\n",
    "                    # Get the basic metadata.\n",
    "                    book = {\n",
    "                        'title': record.get('title'),\n",
    "                        'url': record.get('troveUrl'),\n",
    "                        'contributors': contributors,\n",
    "                        'date': record.get('issued'),\n",
    "                        'fulltext_url': fulltext_url\n",
    "                    }\n",
    "                    books.append(book)\n",
    "                    #print(book)\n",
    "            pbar.update(100)\n",
    "    return books"
   ]
  },
  {
   "cell_type": "code",
   "execution_count": 77,
   "metadata": {},
   "outputs": [
    {
     "data": {
      "application/vnd.jupyter.widget-view+json": {
       "model_id": "c61aed435ea94df2880ffffe1bc9fa54",
       "version_major": 2,
       "version_minor": 0
      },
      "text/plain": [
       "HBox(children=(IntProgress(value=0, max=21669), HTML(value='')))"
      ]
     },
     "metadata": {},
     "output_type": "display_data"
    }
   ],
   "source": [
    "# Do the harvest!\n",
    "books = harvest_books()"
   ]
  },
  {
   "cell_type": "markdown",
   "metadata": {},
   "source": [
    "## Get the number of pages in each book"
   ]
  },
  {
   "cell_type": "code",
   "execution_count": null,
   "metadata": {},
   "outputs": [],
   "source": [
    "def get_work_data(url):\n",
    "    '''\n",
    "    Extract work data in a JSON string from the work's HTML page.\n",
    "    '''\n",
    "    response = s.get(url)\n",
    "    try:\n",
    "        work_data = re.search(r'var work = JSON\\.parse\\(JSON\\.stringify\\((\\{.*\\})', response.text).group(1)\n",
    "    except AttributeError:\n",
    "        work_data = '{}'\n",
    "    return json.loads(work_data)\n",
    "\n",
    "\n",
    "def add_pages(books):\n",
    "    '''\n",
    "    Add the number of pages to the metadata for each book.\n",
    "    '''\n",
    "    books_with_pages = []\n",
    "    for book in tqdm_notebook(books):\n",
    "        # print(book['fulltext_url'])\n",
    "        work = get_work_data(book['fulltext_url'])\n",
    "        try:\n",
    "            pages = len(work['children']['page'])\n",
    "        # I'm not really sure if it's true that works without children have 1 page,\n",
    "        # but it seems to be the case with most of the ones I've checked.\n",
    "        # I did find one case where the record included 2 versions of the same book,\n",
    "        # not sure what to do about that...\n",
    "        except KeyError:\n",
    "            pages = 1\n",
    "        book['pages'] = pages\n",
    "        # print(pages)\n",
    "        books_with_pages.append(book)\n",
    "        time.sleep(0.2)\n",
    "    return books_with_pages"
   ]
  },
  {
   "cell_type": "code",
   "execution_count": 93,
   "metadata": {
    "scrolled": false
   },
   "outputs": [
    {
     "data": {
      "application/vnd.jupyter.widget-view+json": {
       "model_id": "6cbf92f290834df9ae6146f3a2c143ef",
       "version_major": 2,
       "version_minor": 0
      },
      "text/plain": [
       "HBox(children=(IntProgress(value=0, max=7719), HTML(value='')))"
      ]
     },
     "metadata": {},
     "output_type": "display_data"
    }
   ],
   "source": [
    "# Add number of pages to the book metadata\n",
    "books_with_pages = add_pages(books)"
   ]
  },
  {
   "cell_type": "code",
   "execution_count": 95,
   "metadata": {},
   "outputs": [
    {
     "data": {
      "text/html": [
       "<div>\n",
       "<style scoped>\n",
       "    .dataframe tbody tr th:only-of-type {\n",
       "        vertical-align: middle;\n",
       "    }\n",
       "\n",
       "    .dataframe tbody tr th {\n",
       "        vertical-align: top;\n",
       "    }\n",
       "\n",
       "    .dataframe thead th {\n",
       "        text-align: right;\n",
       "    }\n",
       "</style>\n",
       "<table border=\"1\" class=\"dataframe\">\n",
       "  <thead>\n",
       "    <tr style=\"text-align: right;\">\n",
       "      <th></th>\n",
       "      <th>contributors</th>\n",
       "      <th>date</th>\n",
       "      <th>fulltext_url</th>\n",
       "      <th>pages</th>\n",
       "      <th>title</th>\n",
       "      <th>url</th>\n",
       "    </tr>\n",
       "  </thead>\n",
       "  <tbody>\n",
       "    <tr>\n",
       "      <th>0</th>\n",
       "      <td>Taplin, George</td>\n",
       "      <td>1878-1880</td>\n",
       "      <td>http://nla.gov.au/nla.obj-688657424</td>\n",
       "      <td>24</td>\n",
       "      <td>Grammar of the Narrinyeri tribe of Australian ...</td>\n",
       "      <td>https://trove.nla.gov.au/work/10029401</td>\n",
       "    </tr>\n",
       "    <tr>\n",
       "      <th>1</th>\n",
       "      <td>Miriam Agatha</td>\n",
       "      <td>1914-1923</td>\n",
       "      <td>http://nla.gov.au/nla.obj-24357566</td>\n",
       "      <td>246</td>\n",
       "      <td>Nellie Doran : a story of Australian home and ...</td>\n",
       "      <td>https://trove.nla.gov.au/work/10049667</td>\n",
       "    </tr>\n",
       "    <tr>\n",
       "      <th>2</th>\n",
       "      <td>None</td>\n",
       "      <td>1915</td>\n",
       "      <td>http://nla.gov.au/nla.obj-509324870</td>\n",
       "      <td>33</td>\n",
       "      <td>Le Siege de Berlin : Drame en un Acte / Charle...</td>\n",
       "      <td>https://trove.nla.gov.au/work/10069391</td>\n",
       "    </tr>\n",
       "    <tr>\n",
       "      <th>3</th>\n",
       "      <td>Willshire, W. H. (William Henry), 1852-1925</td>\n",
       "      <td>1888</td>\n",
       "      <td>http://nla.gov.au/nla.obj-188910904</td>\n",
       "      <td>33</td>\n",
       "      <td>The Aborigines of Central Australia : with a v...</td>\n",
       "      <td>https://trove.nla.gov.au/work/10076872</td>\n",
       "    </tr>\n",
       "    <tr>\n",
       "      <th>4</th>\n",
       "      <td>Bent, Andrew, 1790-1851</td>\n",
       "      <td>1827</td>\n",
       "      <td>http://nla.gov.au/nla.obj-76416324</td>\n",
       "      <td>2</td>\n",
       "      <td>General power of attorney</td>\n",
       "      <td>https://trove.nla.gov.au/work/10100860</td>\n",
       "    </tr>\n",
       "  </tbody>\n",
       "</table>\n",
       "</div>"
      ],
      "text/plain": [
       "                                  contributors       date  \\\n",
       "0                               Taplin, George  1878-1880   \n",
       "1                                Miriam Agatha  1914-1923   \n",
       "2                                         None       1915   \n",
       "3  Willshire, W. H. (William Henry), 1852-1925       1888   \n",
       "4                      Bent, Andrew, 1790-1851       1827   \n",
       "\n",
       "                          fulltext_url  pages  \\\n",
       "0  http://nla.gov.au/nla.obj-688657424     24   \n",
       "1   http://nla.gov.au/nla.obj-24357566    246   \n",
       "2  http://nla.gov.au/nla.obj-509324870     33   \n",
       "3  http://nla.gov.au/nla.obj-188910904     33   \n",
       "4   http://nla.gov.au/nla.obj-76416324      2   \n",
       "\n",
       "                                               title  \\\n",
       "0  Grammar of the Narrinyeri tribe of Australian ...   \n",
       "1  Nellie Doran : a story of Australian home and ...   \n",
       "2  Le Siege de Berlin : Drame en un Acte / Charle...   \n",
       "3  The Aborigines of Central Australia : with a v...   \n",
       "4                          General power of attorney   \n",
       "\n",
       "                                      url  \n",
       "0  https://trove.nla.gov.au/work/10029401  \n",
       "1  https://trove.nla.gov.au/work/10049667  \n",
       "2  https://trove.nla.gov.au/work/10069391  \n",
       "3  https://trove.nla.gov.au/work/10076872  \n",
       "4  https://trove.nla.gov.au/work/10100860  "
      ]
     },
     "execution_count": 95,
     "metadata": {},
     "output_type": "execute_result"
    }
   ],
   "source": [
    "df = pd.DataFrame(books_with_pages)\n",
    "df.head()"
   ]
  },
  {
   "cell_type": "code",
   "execution_count": 101,
   "metadata": {},
   "outputs": [
    {
     "data": {
      "text/plain": [
       "(7719, 6)"
      ]
     },
     "execution_count": 101,
     "metadata": {},
     "output_type": "execute_result"
    }
   ],
   "source": [
    "df.shape"
   ]
  },
  {
   "cell_type": "code",
   "execution_count": 117,
   "metadata": {},
   "outputs": [],
   "source": [
    "# Extract the id from the url and save to a new column\n",
    "df['book_id'] = df['fulltext_url'].str.extract(r'(nla\\.obj\\-\\d+)', expand=False)"
   ]
  },
  {
   "cell_type": "code",
   "execution_count": 125,
   "metadata": {},
   "outputs": [
    {
     "data": {
      "text/html": [
       "<a href='trove_digitised_books.csv' target='_blank'>trove_digitised_books.csv</a><br>"
      ],
      "text/plain": [
       "/Users/tim/Documents/glam-workbench-dev/trove-books/notebooks/trove_digitised_books.csv"
      ]
     },
     "metadata": {},
     "output_type": "display_data"
    }
   ],
   "source": [
    "df.to_csv('trove_digitised_books.csv', index=False)\n",
    "display(FileLink('trove_digitised_books.csv'))"
   ]
  },
  {
   "cell_type": "markdown",
   "metadata": {},
   "source": [
    "## Download the OCRd texts"
   ]
  },
  {
   "cell_type": "code",
   "execution_count": 119,
   "metadata": {},
   "outputs": [],
   "source": [
    "def save_ocr(books):\n",
    "    '''\n",
    "    Download the OCRd text for each book.\n",
    "    '''\n",
    "    empty = []\n",
    "    # Prepare a directory to save the texts into\n",
    "    output_dir = 'text'\n",
    "    os.makedirs(output_dir, exist_ok=True)\n",
    "    # Loop through the issues\n",
    "    for book in tqdm_notebook(books):\n",
    "        print(book['title'])\n",
    "        # The index value for the last page of an issue will be the total pages - 1\n",
    "        last_page = book['pages'] - 1\n",
    "        filename = '{}/{}.txt'.format(output_dir, book_id)\n",
    "        # Check to see if the file has already been harvested\n",
    "        if os.path.exists(filename) and os.path.getsize(filename) > 0:\n",
    "            print('Already saved')\n",
    "        else:\n",
    "            url = 'https://trove.nla.gov.au/{}/download?downloadOption=ocr&firstPage=0&lastPage={}'.format(book_id, last_page)\n",
    "            print(url)\n",
    "            # Get the file\n",
    "            r = s.get(url)\n",
    "            # Check there was no error\n",
    "            if r.status_code == requests.codes.ok:\n",
    "                # Check that the file's not empty\n",
    "                if len(r.content) > 0:\n",
    "                    # If everything's ok, save the file\n",
    "                    with open(filename, 'wb') as text_file:\n",
    "                        text_file.write(r.content)\n",
    "                    print('Saved')\n",
    "                else:\n",
    "                    print('Empty')\n",
    "                    # Store details of empty files for later\n",
    "                    empty.append(id)\n",
    "                time.sleep(1)\n",
    "            else:\n",
    "                print('There was a problem: {}'.format(r.status_code))\n",
    "    print(empty)"
   ]
  },
  {
   "cell_type": "code",
   "execution_count": null,
   "metadata": {},
   "outputs": [],
   "source": [
    "save_ocr(books_with_pages)"
   ]
  }
 ],
 "metadata": {
  "kernelspec": {
   "display_name": "Python 3",
   "language": "python",
   "name": "python3"
  },
  "language_info": {
   "codemirror_mode": {
    "name": "ipython",
    "version": 3
   },
   "file_extension": ".py",
   "mimetype": "text/x-python",
   "name": "python",
   "nbconvert_exporter": "python",
   "pygments_lexer": "ipython3",
   "version": "3.6.5"
  }
 },
 "nbformat": 4,
 "nbformat_minor": 2
}
